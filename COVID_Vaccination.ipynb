{
  "nbformat": 4,
  "nbformat_minor": 0,
  "metadata": {
    "colab": {
      "name": "COVID Vaccination.ipynb",
      "provenance": [],
      "collapsed_sections": []
    },
    "kernelspec": {
      "display_name": "Python 3",
      "name": "python3"
    },
    "language_info": {
      "name": "python"
    }
  },
  "cells": [
    {
      "cell_type": "markdown",
      "metadata": {
        "id": "r5nT4nZrfMJJ"
      },
      "source": [
        "**COVID Vaccination Prediction**\n",
        "\n",
        "**Dataset** : https://github.com/owid/covid-19-data/blob/master/public/data/vaccinations/vaccinations.csv\n",
        "\n",
        "---\n",
        "\n",
        "In this project, I will be implementing a Neural Network architecture to perform Regression on this dataset.\n",
        "\n",
        "The steps would be:\n",
        "1. Preprocessing and feature engineering\n",
        "2. Feature selection\n",
        "3. Feature Standardization (Generalization/Normalization)\n",
        "4. Hyperparameter tuning\n",
        "5. Training and then testing\n",
        "\n",
        "\n",
        "---\n",
        "\n",
        ">Mathieu, E., Ritchie, H., Ortiz-Ospina, E. et al. A global database of COVID-19 vaccinations. Nat Hum Behav (2021). https://doi.org/10.1038/s41562-021-01122-8"
      ]
    },
    {
      "cell_type": "code",
      "metadata": {
        "id": "xAC5SCMIdiJ9"
      },
      "source": [
        "import pandas as pd\n",
        "import numpy as np\n",
        "from sklearn.preprocessing import StandardScaler\n",
        "import time\n",
        "import matplotlib.pyplot as plt\n",
        "import matplotlib.dates as mdates\n",
        "import seaborn as sns\n",
        "from sklearn.neural_network import MLPRegressor\n",
        "from sklearn.metrics import mean_squared_error, max_error\n",
        "from sklearn.model_selection import train_test_split, GridSearchCV, KFold"
      ],
      "execution_count": null,
      "outputs": []
    },
    {
      "cell_type": "code",
      "metadata": {
        "id": "Tk5ahEP-fKc_"
      },
      "source": [
        "dt = pd.read_csv(\"https://raw.githubusercontent.com/owid/covid-19-data/master/public/data/vaccinations/vaccinations.csv\")"
      ],
      "execution_count": null,
      "outputs": []
    },
    {
      "cell_type": "code",
      "metadata": {
        "colab": {
          "base_uri": "https://localhost:8080/",
          "height": 309
        },
        "id": "1Yb_ijHH8CzC",
        "outputId": "057b560d-d8b1-4cc7-944d-d72ca7748fc1"
      },
      "source": [
        "dt.tail()"
      ],
      "execution_count": null,
      "outputs": [
        {
          "output_type": "execute_result",
          "data": {
            "text/html": [
              "<div>\n",
              "<style scoped>\n",
              "    .dataframe tbody tr th:only-of-type {\n",
              "        vertical-align: middle;\n",
              "    }\n",
              "\n",
              "    .dataframe tbody tr th {\n",
              "        vertical-align: top;\n",
              "    }\n",
              "\n",
              "    .dataframe thead th {\n",
              "        text-align: right;\n",
              "    }\n",
              "</style>\n",
              "<table border=\"1\" class=\"dataframe\">\n",
              "  <thead>\n",
              "    <tr style=\"text-align: right;\">\n",
              "      <th></th>\n",
              "      <th>location</th>\n",
              "      <th>iso_code</th>\n",
              "      <th>date</th>\n",
              "      <th>total_vaccinations</th>\n",
              "      <th>people_vaccinated</th>\n",
              "      <th>people_fully_vaccinated</th>\n",
              "      <th>daily_vaccinations_raw</th>\n",
              "      <th>daily_vaccinations</th>\n",
              "      <th>total_vaccinations_per_hundred</th>\n",
              "      <th>people_vaccinated_per_hundred</th>\n",
              "      <th>people_fully_vaccinated_per_hundred</th>\n",
              "      <th>daily_vaccinations_per_million</th>\n",
              "    </tr>\n",
              "  </thead>\n",
              "  <tbody>\n",
              "    <tr>\n",
              "      <th>19437</th>\n",
              "      <td>Zimbabwe</td>\n",
              "      <td>ZWE</td>\n",
              "      <td>2021-05-10</td>\n",
              "      <td>690653.0</td>\n",
              "      <td>529360.0</td>\n",
              "      <td>161293.0</td>\n",
              "      <td>6410.0</td>\n",
              "      <td>21877.0</td>\n",
              "      <td>4.65</td>\n",
              "      <td>3.56</td>\n",
              "      <td>1.09</td>\n",
              "      <td>1472.0</td>\n",
              "    </tr>\n",
              "    <tr>\n",
              "      <th>19438</th>\n",
              "      <td>Zimbabwe</td>\n",
              "      <td>ZWE</td>\n",
              "      <td>2021-05-11</td>\n",
              "      <td>709772.0</td>\n",
              "      <td>539526.0</td>\n",
              "      <td>170246.0</td>\n",
              "      <td>19119.0</td>\n",
              "      <td>21428.0</td>\n",
              "      <td>4.78</td>\n",
              "      <td>3.63</td>\n",
              "      <td>1.15</td>\n",
              "      <td>1442.0</td>\n",
              "    </tr>\n",
              "    <tr>\n",
              "      <th>19439</th>\n",
              "      <td>Zimbabwe</td>\n",
              "      <td>ZWE</td>\n",
              "      <td>2021-05-12</td>\n",
              "      <td>730365.0</td>\n",
              "      <td>549797.0</td>\n",
              "      <td>180568.0</td>\n",
              "      <td>20593.0</td>\n",
              "      <td>22019.0</td>\n",
              "      <td>4.91</td>\n",
              "      <td>3.70</td>\n",
              "      <td>1.21</td>\n",
              "      <td>1481.0</td>\n",
              "    </tr>\n",
              "    <tr>\n",
              "      <th>19440</th>\n",
              "      <td>Zimbabwe</td>\n",
              "      <td>ZWE</td>\n",
              "      <td>2021-05-13</td>\n",
              "      <td>752020.0</td>\n",
              "      <td>559875.0</td>\n",
              "      <td>192145.0</td>\n",
              "      <td>21655.0</td>\n",
              "      <td>20666.0</td>\n",
              "      <td>5.06</td>\n",
              "      <td>3.77</td>\n",
              "      <td>1.29</td>\n",
              "      <td>1390.0</td>\n",
              "    </tr>\n",
              "    <tr>\n",
              "      <th>19441</th>\n",
              "      <td>Zimbabwe</td>\n",
              "      <td>ZWE</td>\n",
              "      <td>2021-05-14</td>\n",
              "      <td>775241.0</td>\n",
              "      <td>571460.0</td>\n",
              "      <td>203781.0</td>\n",
              "      <td>23221.0</td>\n",
              "      <td>19211.0</td>\n",
              "      <td>5.22</td>\n",
              "      <td>3.84</td>\n",
              "      <td>1.37</td>\n",
              "      <td>1293.0</td>\n",
              "    </tr>\n",
              "  </tbody>\n",
              "</table>\n",
              "</div>"
            ],
            "text/plain": [
              "       location  ... daily_vaccinations_per_million\n",
              "19437  Zimbabwe  ...                         1472.0\n",
              "19438  Zimbabwe  ...                         1442.0\n",
              "19439  Zimbabwe  ...                         1481.0\n",
              "19440  Zimbabwe  ...                         1390.0\n",
              "19441  Zimbabwe  ...                         1293.0\n",
              "\n",
              "[5 rows x 12 columns]"
            ]
          },
          "metadata": {
            "tags": []
          },
          "execution_count": 22
        }
      ]
    },
    {
      "cell_type": "code",
      "metadata": {
        "colab": {
          "base_uri": "https://localhost:8080/",
          "height": 465
        },
        "id": "GLLoc7BK9_aF",
        "outputId": "e6016d8e-6c81-48a7-b6f6-655fff3f6ba4"
      },
      "source": [
        "sns.heatmap(dt.isnull())"
      ],
      "execution_count": null,
      "outputs": [
        {
          "output_type": "execute_result",
          "data": {
            "text/plain": [
              "<matplotlib.axes._subplots.AxesSubplot at 0x7f3462b2e290>"
            ]
          },
          "metadata": {
            "tags": []
          },
          "execution_count": 23
        },
        {
          "output_type": "display_data",
          "data": {
            "image/png": "[encoded data removed]",
            "text/plain": [
              "<Figure size 432x288 with 2 Axes>"
            ]
          },
          "metadata": {
            "tags": [],
            "needs_background": "light"
          }
        }
      ]
    },
    {
      "cell_type": "code",
      "metadata": {
        "id": "3D9MWnFE9rEy"
      },
      "source": [
        "dt = dt.drop(['daily_vaccinations','people_vaccinated', 'people_fully_vaccinated', 'daily_vaccinations_raw', \n",
        "         'total_vaccinations_per_hundred', 'people_vaccinated_per_hundred', 'people_fully_vaccinated_per_hundred', \n",
        "         'daily_vaccinations_per_million'], axis = 1)"
      ],
      "execution_count": null,
      "outputs": []
    },
    {
      "cell_type": "code",
      "metadata": {
        "colab": {
          "base_uri": "https://localhost:8080/",
          "height": 355
        },
        "id": "zksMC9dm_TL5",
        "outputId": "0acd91bd-71c7-4c6d-ea6f-dc40a11468c7"
      },
      "source": [
        "sns.heatmap(dt.isnull(), cbar = False)\n",
        "dt = dt.dropna()\n",
        "dt = dt[dt.total_vaccinations != 0]\n",
        "dt.isna().sum()"
      ],
      "execution_count": null,
      "outputs": [
        {
          "output_type": "execute_result",
          "data": {
            "text/plain": [
              "location              0\n",
              "iso_code              0\n",
              "date                  0\n",
              "total_vaccinations    0\n",
              "dtype: int64"
            ]
          },
          "metadata": {
            "tags": []
          },
          "execution_count": 27
        },
        {
          "output_type": "display_data",
          "data": {
            "image/png": "[encoded data removed]",
            "text/plain": [
              "<Figure size 432x288 with 1 Axes>"
            ]
          },
          "metadata": {
            "tags": [],
            "needs_background": "light"
          }
        }
      ]
    },
    {
      "cell_type": "markdown",
      "metadata": {
        "id": "hrack2mh3wPU"
      },
      "source": [
        "**Let's take a look at the dates.**\n",
        "\n",
        "---\n",
        "\n",
        "As it can be seen, if the model is trained on this data, it will give higher significance to December of 2020 if we separate the date into month, year, and day."
      ]
    },
    {
      "cell_type": "code",
      "metadata": {
        "id": "DgQxXq7o_Y9g",
        "colab": {
          "base_uri": "https://localhost:8080/",
          "height": 230
        },
        "outputId": "d0340790-8c1b-4a00-aabd-1f943df727d3"
      },
      "source": [
        "lens = dt.shape[0]\n",
        "plt.gca().xaxis.set_major_formatter(mdates.DateFormatter('%Y-%m-%d'))\n",
        "plt.gca().xaxis.set_major_locator(mdates.DayLocator())\n",
        "plt.plot(pd.to_datetime(dt['date']).astype('datetime64'))\n",
        "plt.gcf().autofmt_xdate()"
      ],
      "execution_count": null,
      "outputs": [
        {
          "output_type": "display_data",
          "data": {
            "image/png": "[encoded data removed]",
            "text/plain": [
              "<Figure size 432x288 with 1 Axes>"
            ]
          },
          "metadata": {
            "tags": [],
            "needs_background": "light"
          }
        }
      ]
    },
    {
      "cell_type": "code",
      "metadata": {
        "id": "mz2B7pyJ7ATf"
      },
      "source": [
        "dt[[\"year\", \"month\", \"day\"]] = pd.to_datetime(dt[\"date\"]).dt.strftime('%Y-%m-%d').str.split('-', expand = True).astype('int64')"
      ],
      "execution_count": null,
      "outputs": []
    },
    {
      "cell_type": "code",
      "metadata": {
        "colab": {
          "base_uri": "https://localhost:8080/",
          "height": 419
        },
        "id": "GPkMgJX9_LaX",
        "outputId": "e10c9699-bbc9-4c11-b89b-0d8fda960559"
      },
      "source": [
        "dt"
      ],
      "execution_count": null,
      "outputs": [
        {
          "output_type": "execute_result",
          "data": {
            "text/html": [
              "<div>\n",
              "<style scoped>\n",
              "    .dataframe tbody tr th:only-of-type {\n",
              "        vertical-align: middle;\n",
              "    }\n",
              "\n",
              "    .dataframe tbody tr th {\n",
              "        vertical-align: top;\n",
              "    }\n",
              "\n",
              "    .dataframe thead th {\n",
              "        text-align: right;\n",
              "    }\n",
              "</style>\n",
              "<table border=\"1\" class=\"dataframe\">\n",
              "  <thead>\n",
              "    <tr style=\"text-align: right;\">\n",
              "      <th></th>\n",
              "      <th>location</th>\n",
              "      <th>iso_code</th>\n",
              "      <th>date</th>\n",
              "      <th>total_vaccinations</th>\n",
              "      <th>year</th>\n",
              "      <th>month</th>\n",
              "      <th>day</th>\n",
              "    </tr>\n",
              "  </thead>\n",
              "  <tbody>\n",
              "    <tr>\n",
              "      <th>6</th>\n",
              "      <td>Afghanistan</td>\n",
              "      <td>AFG</td>\n",
              "      <td>2021-02-28</td>\n",
              "      <td>8200.0</td>\n",
              "      <td>2021</td>\n",
              "      <td>2</td>\n",
              "      <td>28</td>\n",
              "    </tr>\n",
              "    <tr>\n",
              "      <th>22</th>\n",
              "      <td>Afghanistan</td>\n",
              "      <td>AFG</td>\n",
              "      <td>2021-03-16</td>\n",
              "      <td>54000.0</td>\n",
              "      <td>2021</td>\n",
              "      <td>3</td>\n",
              "      <td>16</td>\n",
              "    </tr>\n",
              "    <tr>\n",
              "      <th>44</th>\n",
              "      <td>Afghanistan</td>\n",
              "      <td>AFG</td>\n",
              "      <td>2021-04-07</td>\n",
              "      <td>120000.0</td>\n",
              "      <td>2021</td>\n",
              "      <td>4</td>\n",
              "      <td>7</td>\n",
              "    </tr>\n",
              "    <tr>\n",
              "      <th>59</th>\n",
              "      <td>Afghanistan</td>\n",
              "      <td>AFG</td>\n",
              "      <td>2021-04-22</td>\n",
              "      <td>240000.0</td>\n",
              "      <td>2021</td>\n",
              "      <td>4</td>\n",
              "      <td>22</td>\n",
              "    </tr>\n",
              "    <tr>\n",
              "      <th>78</th>\n",
              "      <td>Afghanistan</td>\n",
              "      <td>AFG</td>\n",
              "      <td>2021-05-11</td>\n",
              "      <td>504502.0</td>\n",
              "      <td>2021</td>\n",
              "      <td>5</td>\n",
              "      <td>11</td>\n",
              "    </tr>\n",
              "    <tr>\n",
              "      <th>...</th>\n",
              "      <td>...</td>\n",
              "      <td>...</td>\n",
              "      <td>...</td>\n",
              "      <td>...</td>\n",
              "      <td>...</td>\n",
              "      <td>...</td>\n",
              "      <td>...</td>\n",
              "    </tr>\n",
              "    <tr>\n",
              "      <th>19437</th>\n",
              "      <td>Zimbabwe</td>\n",
              "      <td>ZWE</td>\n",
              "      <td>2021-05-10</td>\n",
              "      <td>690653.0</td>\n",
              "      <td>2021</td>\n",
              "      <td>5</td>\n",
              "      <td>10</td>\n",
              "    </tr>\n",
              "    <tr>\n",
              "      <th>19438</th>\n",
              "      <td>Zimbabwe</td>\n",
              "      <td>ZWE</td>\n",
              "      <td>2021-05-11</td>\n",
              "      <td>709772.0</td>\n",
              "      <td>2021</td>\n",
              "      <td>5</td>\n",
              "      <td>11</td>\n",
              "    </tr>\n",
              "    <tr>\n",
              "      <th>19439</th>\n",
              "      <td>Zimbabwe</td>\n",
              "      <td>ZWE</td>\n",
              "      <td>2021-05-12</td>\n",
              "      <td>730365.0</td>\n",
              "      <td>2021</td>\n",
              "      <td>5</td>\n",
              "      <td>12</td>\n",
              "    </tr>\n",
              "    <tr>\n",
              "      <th>19440</th>\n",
              "      <td>Zimbabwe</td>\n",
              "      <td>ZWE</td>\n",
              "      <td>2021-05-13</td>\n",
              "      <td>752020.0</td>\n",
              "      <td>2021</td>\n",
              "      <td>5</td>\n",
              "      <td>13</td>\n",
              "    </tr>\n",
              "    <tr>\n",
              "      <th>19441</th>\n",
              "      <td>Zimbabwe</td>\n",
              "      <td>ZWE</td>\n",
              "      <td>2021-05-14</td>\n",
              "      <td>775241.0</td>\n",
              "      <td>2021</td>\n",
              "      <td>5</td>\n",
              "      <td>14</td>\n",
              "    </tr>\n",
              "  </tbody>\n",
              "</table>\n",
              "<p>11868 rows × 7 columns</p>\n",
              "</div>"
            ],
            "text/plain": [
              "          location iso_code        date  total_vaccinations  year  month  day\n",
              "6      Afghanistan      AFG  2021-02-28              8200.0  2021      2   28\n",
              "22     Afghanistan      AFG  2021-03-16             54000.0  2021      3   16\n",
              "44     Afghanistan      AFG  2021-04-07            120000.0  2021      4    7\n",
              "59     Afghanistan      AFG  2021-04-22            240000.0  2021      4   22\n",
              "78     Afghanistan      AFG  2021-05-11            504502.0  2021      5   11\n",
              "...            ...      ...         ...                 ...   ...    ...  ...\n",
              "19437     Zimbabwe      ZWE  2021-05-10            690653.0  2021      5   10\n",
              "19438     Zimbabwe      ZWE  2021-05-11            709772.0  2021      5   11\n",
              "19439     Zimbabwe      ZWE  2021-05-12            730365.0  2021      5   12\n",
              "19440     Zimbabwe      ZWE  2021-05-13            752020.0  2021      5   13\n",
              "19441     Zimbabwe      ZWE  2021-05-14            775241.0  2021      5   14\n",
              "\n",
              "[11868 rows x 7 columns]"
            ]
          },
          "metadata": {
            "tags": []
          },
          "execution_count": 30
        }
      ]
    },
    {
      "cell_type": "markdown",
      "metadata": {
        "id": "ezaKc-PiHcRB"
      },
      "source": [
        "**Using normalized date here causes certain problems regarding input, hence it is standardized.**"
      ]
    },
    {
      "cell_type": "code",
      "metadata": {
        "colab": {
          "base_uri": "https://localhost:8080/",
          "height": 419
        },
        "id": "KgSqL2aAuwge",
        "outputId": "71c92aa0-117f-4167-f913-5bfeed4007a5"
      },
      "source": [
        "col = ['total_vaccinations', 'year', 'month', 'day']\n",
        "mean = {}\n",
        "stdev = {}\n",
        "for i in col:\n",
        "  mean[i] = dt.mean(axis = 0)[i]\n",
        "  stdev[i] = dt.std(axis = 0)[i]\n",
        "  std = StandardScaler().fit(dt[[i]])\n",
        "  dt[i] = std.transform(dt[[i]])\n",
        "dt"
      ],
      "execution_count": null,
      "outputs": [
        {
          "output_type": "execute_result",
          "data": {
            "text/html": [
              "<div>\n",
              "<style scoped>\n",
              "    .dataframe tbody tr th:only-of-type {\n",
              "        vertical-align: middle;\n",
              "    }\n",
              "\n",
              "    .dataframe tbody tr th {\n",
              "        vertical-align: top;\n",
              "    }\n",
              "\n",
              "    .dataframe thead th {\n",
              "        text-align: right;\n",
              "    }\n",
              "</style>\n",
              "<table border=\"1\" class=\"dataframe\">\n",
              "  <thead>\n",
              "    <tr style=\"text-align: right;\">\n",
              "      <th></th>\n",
              "      <th>location</th>\n",
              "      <th>iso_code</th>\n",
              "      <th>date</th>\n",
              "      <th>total_vaccinations</th>\n",
              "      <th>year</th>\n",
              "      <th>month</th>\n",
              "      <th>day</th>\n",
              "    </tr>\n",
              "  </thead>\n",
              "  <tbody>\n",
              "    <tr>\n",
              "      <th>6</th>\n",
              "      <td>Afghanistan</td>\n",
              "      <td>AFG</td>\n",
              "      <td>2021-02-28</td>\n",
              "      <td>-0.245988</td>\n",
              "      <td>0.168855</td>\n",
              "      <td>-0.730738</td>\n",
              "      <td>1.457823</td>\n",
              "    </tr>\n",
              "    <tr>\n",
              "      <th>22</th>\n",
              "      <td>Afghanistan</td>\n",
              "      <td>AFG</td>\n",
              "      <td>2021-03-16</td>\n",
              "      <td>-0.245468</td>\n",
              "      <td>0.168855</td>\n",
              "      <td>-0.203027</td>\n",
              "      <td>0.089363</td>\n",
              "    </tr>\n",
              "    <tr>\n",
              "      <th>44</th>\n",
              "      <td>Afghanistan</td>\n",
              "      <td>AFG</td>\n",
              "      <td>2021-04-07</td>\n",
              "      <td>-0.244719</td>\n",
              "      <td>0.168855</td>\n",
              "      <td>0.324683</td>\n",
              "      <td>-0.936982</td>\n",
              "    </tr>\n",
              "    <tr>\n",
              "      <th>59</th>\n",
              "      <td>Afghanistan</td>\n",
              "      <td>AFG</td>\n",
              "      <td>2021-04-22</td>\n",
              "      <td>-0.243357</td>\n",
              "      <td>0.168855</td>\n",
              "      <td>0.324683</td>\n",
              "      <td>0.773593</td>\n",
              "    </tr>\n",
              "    <tr>\n",
              "      <th>78</th>\n",
              "      <td>Afghanistan</td>\n",
              "      <td>AFG</td>\n",
              "      <td>2021-05-11</td>\n",
              "      <td>-0.240354</td>\n",
              "      <td>0.168855</td>\n",
              "      <td>0.852394</td>\n",
              "      <td>-0.480829</td>\n",
              "    </tr>\n",
              "    <tr>\n",
              "      <th>...</th>\n",
              "      <td>...</td>\n",
              "      <td>...</td>\n",
              "      <td>...</td>\n",
              "      <td>...</td>\n",
              "      <td>...</td>\n",
              "      <td>...</td>\n",
              "      <td>...</td>\n",
              "    </tr>\n",
              "    <tr>\n",
              "      <th>19437</th>\n",
              "      <td>Zimbabwe</td>\n",
              "      <td>ZWE</td>\n",
              "      <td>2021-05-10</td>\n",
              "      <td>-0.238240</td>\n",
              "      <td>0.168855</td>\n",
              "      <td>0.852394</td>\n",
              "      <td>-0.594867</td>\n",
              "    </tr>\n",
              "    <tr>\n",
              "      <th>19438</th>\n",
              "      <td>Zimbabwe</td>\n",
              "      <td>ZWE</td>\n",
              "      <td>2021-05-11</td>\n",
              "      <td>-0.238023</td>\n",
              "      <td>0.168855</td>\n",
              "      <td>0.852394</td>\n",
              "      <td>-0.480829</td>\n",
              "    </tr>\n",
              "    <tr>\n",
              "      <th>19439</th>\n",
              "      <td>Zimbabwe</td>\n",
              "      <td>ZWE</td>\n",
              "      <td>2021-05-12</td>\n",
              "      <td>-0.237789</td>\n",
              "      <td>0.168855</td>\n",
              "      <td>0.852394</td>\n",
              "      <td>-0.366791</td>\n",
              "    </tr>\n",
              "    <tr>\n",
              "      <th>19440</th>\n",
              "      <td>Zimbabwe</td>\n",
              "      <td>ZWE</td>\n",
              "      <td>2021-05-13</td>\n",
              "      <td>-0.237544</td>\n",
              "      <td>0.168855</td>\n",
              "      <td>0.852394</td>\n",
              "      <td>-0.252752</td>\n",
              "    </tr>\n",
              "    <tr>\n",
              "      <th>19441</th>\n",
              "      <td>Zimbabwe</td>\n",
              "      <td>ZWE</td>\n",
              "      <td>2021-05-14</td>\n",
              "      <td>-0.237280</td>\n",
              "      <td>0.168855</td>\n",
              "      <td>0.852394</td>\n",
              "      <td>-0.138714</td>\n",
              "    </tr>\n",
              "  </tbody>\n",
              "</table>\n",
              "<p>11868 rows × 7 columns</p>\n",
              "</div>"
            ],
            "text/plain": [
              "          location iso_code        date  ...      year     month       day\n",
              "6      Afghanistan      AFG  2021-02-28  ...  0.168855 -0.730738  1.457823\n",
              "22     Afghanistan      AFG  2021-03-16  ...  0.168855 -0.203027  0.089363\n",
              "44     Afghanistan      AFG  2021-04-07  ...  0.168855  0.324683 -0.936982\n",
              "59     Afghanistan      AFG  2021-04-22  ...  0.168855  0.324683  0.773593\n",
              "78     Afghanistan      AFG  2021-05-11  ...  0.168855  0.852394 -0.480829\n",
              "...            ...      ...         ...  ...       ...       ...       ...\n",
              "19437     Zimbabwe      ZWE  2021-05-10  ...  0.168855  0.852394 -0.594867\n",
              "19438     Zimbabwe      ZWE  2021-05-11  ...  0.168855  0.852394 -0.480829\n",
              "19439     Zimbabwe      ZWE  2021-05-12  ...  0.168855  0.852394 -0.366791\n",
              "19440     Zimbabwe      ZWE  2021-05-13  ...  0.168855  0.852394 -0.252752\n",
              "19441     Zimbabwe      ZWE  2021-05-14  ...  0.168855  0.852394 -0.138714\n",
              "\n",
              "[11868 rows x 7 columns]"
            ]
          },
          "metadata": {
            "tags": []
          },
          "execution_count": 31
        }
      ]
    },
    {
      "cell_type": "code",
      "metadata": {
        "id": "pI9NhYQSd0kg"
      },
      "source": [
        "dt = pd.concat([dt, pd.get_dummies(dt['location'])], axis = 1)\n",
        "dt = dt.drop('location', axis = 1)"
      ],
      "execution_count": null,
      "outputs": []
    },
    {
      "cell_type": "code",
      "metadata": {
        "id": "jWd0jGUWQPCg"
      },
      "source": [
        "dt = dt.drop('iso_code', axis = 1)"
      ],
      "execution_count": null,
      "outputs": []
    },
    {
      "cell_type": "code",
      "metadata": {
        "id": "1bPxOpO1EOk-"
      },
      "source": [
        "dt = dt.drop('date', axis = 1)"
      ],
      "execution_count": null,
      "outputs": []
    },
    {
      "cell_type": "code",
      "metadata": {
        "id": "0e_17vwaQjq4"
      },
      "source": [
        "y = dt['total_vaccinations']\n",
        "x = dt.drop('total_vaccinations', axis = 1)"
      ],
      "execution_count": null,
      "outputs": []
    },
    {
      "cell_type": "code",
      "metadata": {
        "colab": {
          "base_uri": "https://localhost:8080/"
        },
        "id": "PbgaQt-fB4Z2",
        "outputId": "8a294a5e-a198-47fd-eb99-197aca6d86d3"
      },
      "source": [
        "print(x)\n",
        "print(y)"
      ],
      "execution_count": null,
      "outputs": [
        {
          "output_type": "stream",
          "text": [
            "           year     month       day  ...  Yemen  Zambia  Zimbabwe\n",
            "6      0.168855 -0.730738  1.457823  ...      0       0         0\n",
            "22     0.168855 -0.203027  0.089363  ...      0       0         0\n",
            "44     0.168855  0.324683 -0.936982  ...      0       0         0\n",
            "59     0.168855  0.324683  0.773593  ...      0       0         0\n",
            "78     0.168855  0.852394 -0.480829  ...      0       0         0\n",
            "...         ...       ...       ...  ...    ...     ...       ...\n",
            "19437  0.168855  0.852394 -0.594867  ...      0       0         1\n",
            "19438  0.168855  0.852394 -0.480829  ...      0       0         1\n",
            "19439  0.168855  0.852394 -0.366791  ...      0       0         1\n",
            "19440  0.168855  0.852394 -0.252752  ...      0       0         1\n",
            "19441  0.168855  0.852394 -0.138714  ...      0       0         1\n",
            "\n",
            "[11868 rows x 226 columns]\n",
            "6       -0.245988\n",
            "22      -0.245468\n",
            "44      -0.244719\n",
            "59      -0.243357\n",
            "78      -0.240354\n",
            "           ...   \n",
            "19437   -0.238240\n",
            "19438   -0.238023\n",
            "19439   -0.237789\n",
            "19440   -0.237544\n",
            "19441   -0.237280\n",
            "Name: total_vaccinations, Length: 11868, dtype: float64\n"
          ],
          "name": "stdout"
        }
      ]
    },
    {
      "cell_type": "code",
      "metadata": {
        "colab": {
          "base_uri": "https://localhost:8080/",
          "height": 295
        },
        "id": "-gHOcW_RDDsS",
        "outputId": "4b3e660e-9dd7-4357-febb-73049fed4edb"
      },
      "source": [
        "plt.scatter(x[\"month\"], y, color = \"green\", alpha = 0.5)\n",
        "plt.title(\"Data\")\n",
        "plt.xlabel(\"Date\")\n",
        "plt.ylabel(\"Vaccinations\")\n",
        "plt.show()"
      ],
      "execution_count": null,
      "outputs": [
        {
          "output_type": "display_data",
          "data": {
            "image/png": "[encoded data removed]",
            "text/plain": [
              "<Figure size 432x288 with 1 Axes>"
            ]
          },
          "metadata": {
            "tags": [],
            "needs_background": "light"
          }
        }
      ]
    },
    {
      "cell_type": "markdown",
      "metadata": {
        "id": "Srue9BY0tTnZ"
      },
      "source": [
        "**Observations**\n",
        "\n",
        "\n",
        "---\n",
        "|Hidden layer sizes|Learning rate|Solver|Learning rate initialization|Training score|Test score|MSE|\n",
        "|------------------|-------------|------|----------------------------|--------------|----------|---|\n",
        "|(100,)|Adaptive|Adam|0.05|99.87%|99.56%|~0.002|\n",
        "|(400,)|Adaptive|Adam|0.05|99.06%|98.92%|~0.0001|\n",
        "|(50, 50, 10)|Adaptive|Adam|0.05|99.54%|99.65%|~0.0035|\n",
        "|(200,)|Adaptive|Adam|0.025|96.3%|94.1%|~0.00055|\n",
        "\n",
        "\n",
        "\n",
        "\n"
      ]
    },
    {
      "cell_type": "markdown",
      "metadata": {
        "id": "YsPwT7h9vhZf"
      },
      "source": [
        "**Grid Search CV with KFold Cross Validation**\n",
        "This approach took almost 29 minutes with the grid parameters given below.\n",
        "It gave approx. 99.92% score on training data and 99.9% on test data with approx. 0.009 MSE\n",
        "\n",
        "\n",
        "---\n",
        "\n",
        "\n",
        "The best parameters are \n",
        "\n",
        "\n",
        "1.   Hidden Layers : (100, 50)\n",
        "2.   Learning rate : Adaptive\n",
        "3.   Learning rate initialization : 0.05\n",
        "4.   Solver : SGD\n",
        "\n"
      ]
    },
    {
      "cell_type": "code",
      "metadata": {
        "id": "6AwMaLwT5Jyd"
      },
      "source": [
        "print(f\"Total features: {x.shape[1]}\")\n",
        "print(f\"Total samples: {x.shape[0]}\")"
      ],
      "execution_count": null,
      "outputs": []
    },
    {
      "cell_type": "code",
      "metadata": {
        "colab": {
          "base_uri": "https://localhost:8080/"
        },
        "id": "xLYdzw35QxLn",
        "outputId": "38e51183-b61c-40cb-ad5d-6816f8e51c80"
      },
      "source": [
        "x_train, x_test, y_train, y_test = train_test_split(x, y, test_size = 0.3)\n",
        "grid_params = {\n",
        "    \"learning_rate\" : [\"adaptive\", \"constant\"],\n",
        "    \"hidden_layer_sizes\" : [(100,), (50, 50, 10,), (50,), (100, 50,), (50, 10,)],\n",
        "    \"solver\" : [\"sgd\", \"adam\"],\n",
        "    \"learning_rate_init\" : [0.05, 0.025, 0.001]\n",
        "}\n",
        "regr = MLPRegressor()\n",
        "cv = KFold(n_splits = 5, shuffle = False, random_state = None)\n",
        "bestregr = GridSearchCV(regr, param_grid = grid_params, return_train_score = True, cv = cv)\n",
        "bestregr.fit(x_train, y_train).score(x_train, y_train)"
      ],
      "execution_count": null,
      "outputs": [
        {
          "output_type": "stream",
          "text": [
            "/usr/local/lib/python3.7/dist-packages/sklearn/neural_network/_multilayer_perceptron.py:571: ConvergenceWarning: Stochastic Optimizer: Maximum iterations (200) reached and the optimization hasn't converged yet.\n",
            "  % self.max_iter, ConvergenceWarning)\n",
            "/usr/local/lib/python3.7/dist-packages/sklearn/neural_network/_multilayer_perceptron.py:571: ConvergenceWarning: Stochastic Optimizer: Maximum iterations (200) reached and the optimization hasn't converged yet.\n",
            "  % self.max_iter, ConvergenceWarning)\n",
            "/usr/local/lib/python3.7/dist-packages/sklearn/neural_network/_multilayer_perceptron.py:571: ConvergenceWarning: Stochastic Optimizer: Maximum iterations (200) reached and the optimization hasn't converged yet.\n",
            "  % self.max_iter, ConvergenceWarning)\n",
            "/usr/local/lib/python3.7/dist-packages/sklearn/neural_network/_multilayer_perceptron.py:571: ConvergenceWarning: Stochastic Optimizer: Maximum iterations (200) reached and the optimization hasn't converged yet.\n",
            "  % self.max_iter, ConvergenceWarning)\n",
            "/usr/local/lib/python3.7/dist-packages/sklearn/neural_network/_multilayer_perceptron.py:571: ConvergenceWarning: Stochastic Optimizer: Maximum iterations (200) reached and the optimization hasn't converged yet.\n",
            "  % self.max_iter, ConvergenceWarning)\n",
            "/usr/local/lib/python3.7/dist-packages/sklearn/neural_network/_multilayer_perceptron.py:571: ConvergenceWarning: Stochastic Optimizer: Maximum iterations (200) reached and the optimization hasn't converged yet.\n",
            "  % self.max_iter, ConvergenceWarning)\n",
            "/usr/local/lib/python3.7/dist-packages/sklearn/neural_network/_multilayer_perceptron.py:571: ConvergenceWarning: Stochastic Optimizer: Maximum iterations (200) reached and the optimization hasn't converged yet.\n",
            "  % self.max_iter, ConvergenceWarning)\n",
            "/usr/local/lib/python3.7/dist-packages/sklearn/neural_network/_multilayer_perceptron.py:571: ConvergenceWarning: Stochastic Optimizer: Maximum iterations (200) reached and the optimization hasn't converged yet.\n",
            "  % self.max_iter, ConvergenceWarning)\n",
            "/usr/local/lib/python3.7/dist-packages/sklearn/neural_network/_multilayer_perceptron.py:571: ConvergenceWarning: Stochastic Optimizer: Maximum iterations (200) reached and the optimization hasn't converged yet.\n",
            "  % self.max_iter, ConvergenceWarning)\n",
            "/usr/local/lib/python3.7/dist-packages/sklearn/neural_network/_multilayer_perceptron.py:571: ConvergenceWarning: Stochastic Optimizer: Maximum iterations (200) reached and the optimization hasn't converged yet.\n",
            "  % self.max_iter, ConvergenceWarning)\n",
            "/usr/local/lib/python3.7/dist-packages/sklearn/neural_network/_multilayer_perceptron.py:571: ConvergenceWarning: Stochastic Optimizer: Maximum iterations (200) reached and the optimization hasn't converged yet.\n",
            "  % self.max_iter, ConvergenceWarning)\n",
            "/usr/local/lib/python3.7/dist-packages/sklearn/neural_network/_multilayer_perceptron.py:571: ConvergenceWarning: Stochastic Optimizer: Maximum iterations (200) reached and the optimization hasn't converged yet.\n",
            "  % self.max_iter, ConvergenceWarning)\n",
            "/usr/local/lib/python3.7/dist-packages/sklearn/neural_network/_multilayer_perceptron.py:571: ConvergenceWarning: Stochastic Optimizer: Maximum iterations (200) reached and the optimization hasn't converged yet.\n",
            "  % self.max_iter, ConvergenceWarning)\n",
            "/usr/local/lib/python3.7/dist-packages/sklearn/neural_network/_multilayer_perceptron.py:571: ConvergenceWarning: Stochastic Optimizer: Maximum iterations (200) reached and the optimization hasn't converged yet.\n",
            "  % self.max_iter, ConvergenceWarning)\n",
            "/usr/local/lib/python3.7/dist-packages/sklearn/neural_network/_multilayer_perceptron.py:571: ConvergenceWarning: Stochastic Optimizer: Maximum iterations (200) reached and the optimization hasn't converged yet.\n",
            "  % self.max_iter, ConvergenceWarning)\n",
            "/usr/local/lib/python3.7/dist-packages/sklearn/neural_network/_multilayer_perceptron.py:571: ConvergenceWarning: Stochastic Optimizer: Maximum iterations (200) reached and the optimization hasn't converged yet.\n",
            "  % self.max_iter, ConvergenceWarning)\n",
            "/usr/local/lib/python3.7/dist-packages/sklearn/neural_network/_multilayer_perceptron.py:571: ConvergenceWarning: Stochastic Optimizer: Maximum iterations (200) reached and the optimization hasn't converged yet.\n",
            "  % self.max_iter, ConvergenceWarning)\n",
            "/usr/local/lib/python3.7/dist-packages/sklearn/neural_network/_multilayer_perceptron.py:571: ConvergenceWarning: Stochastic Optimizer: Maximum iterations (200) reached and the optimization hasn't converged yet.\n",
            "  % self.max_iter, ConvergenceWarning)\n",
            "/usr/local/lib/python3.7/dist-packages/sklearn/neural_network/_multilayer_perceptron.py:571: ConvergenceWarning: Stochastic Optimizer: Maximum iterations (200) reached and the optimization hasn't converged yet.\n",
            "  % self.max_iter, ConvergenceWarning)\n",
            "/usr/local/lib/python3.7/dist-packages/sklearn/neural_network/_multilayer_perceptron.py:571: ConvergenceWarning: Stochastic Optimizer: Maximum iterations (200) reached and the optimization hasn't converged yet.\n",
            "  % self.max_iter, ConvergenceWarning)\n",
            "/usr/local/lib/python3.7/dist-packages/sklearn/neural_network/_multilayer_perceptron.py:571: ConvergenceWarning: Stochastic Optimizer: Maximum iterations (200) reached and the optimization hasn't converged yet.\n",
            "  % self.max_iter, ConvergenceWarning)\n",
            "/usr/local/lib/python3.7/dist-packages/sklearn/neural_network/_multilayer_perceptron.py:571: ConvergenceWarning: Stochastic Optimizer: Maximum iterations (200) reached and the optimization hasn't converged yet.\n",
            "  % self.max_iter, ConvergenceWarning)\n",
            "/usr/local/lib/python3.7/dist-packages/sklearn/neural_network/_multilayer_perceptron.py:571: ConvergenceWarning: Stochastic Optimizer: Maximum iterations (200) reached and the optimization hasn't converged yet.\n",
            "  % self.max_iter, ConvergenceWarning)\n",
            "/usr/local/lib/python3.7/dist-packages/sklearn/neural_network/_multilayer_perceptron.py:571: ConvergenceWarning: Stochastic Optimizer: Maximum iterations (200) reached and the optimization hasn't converged yet.\n",
            "  % self.max_iter, ConvergenceWarning)\n",
            "/usr/local/lib/python3.7/dist-packages/sklearn/neural_network/_multilayer_perceptron.py:571: ConvergenceWarning: Stochastic Optimizer: Maximum iterations (200) reached and the optimization hasn't converged yet.\n",
            "  % self.max_iter, ConvergenceWarning)\n",
            "/usr/local/lib/python3.7/dist-packages/sklearn/neural_network/_multilayer_perceptron.py:571: ConvergenceWarning: Stochastic Optimizer: Maximum iterations (200) reached and the optimization hasn't converged yet.\n",
            "  % self.max_iter, ConvergenceWarning)\n",
            "/usr/local/lib/python3.7/dist-packages/sklearn/neural_network/_multilayer_perceptron.py:571: ConvergenceWarning: Stochastic Optimizer: Maximum iterations (200) reached and the optimization hasn't converged yet.\n",
            "  % self.max_iter, ConvergenceWarning)\n",
            "/usr/local/lib/python3.7/dist-packages/sklearn/neural_network/_multilayer_perceptron.py:571: ConvergenceWarning: Stochastic Optimizer: Maximum iterations (200) reached and the optimization hasn't converged yet.\n",
            "  % self.max_iter, ConvergenceWarning)\n",
            "/usr/local/lib/python3.7/dist-packages/sklearn/neural_network/_multilayer_perceptron.py:571: ConvergenceWarning: Stochastic Optimizer: Maximum iterations (200) reached and the optimization hasn't converged yet.\n",
            "  % self.max_iter, ConvergenceWarning)\n",
            "/usr/local/lib/python3.7/dist-packages/sklearn/neural_network/_multilayer_perceptron.py:571: ConvergenceWarning: Stochastic Optimizer: Maximum iterations (200) reached and the optimization hasn't converged yet.\n",
            "  % self.max_iter, ConvergenceWarning)\n",
            "/usr/local/lib/python3.7/dist-packages/sklearn/neural_network/_multilayer_perceptron.py:571: ConvergenceWarning: Stochastic Optimizer: Maximum iterations (200) reached and the optimization hasn't converged yet.\n",
            "  % self.max_iter, ConvergenceWarning)\n",
            "/usr/local/lib/python3.7/dist-packages/sklearn/neural_network/_multilayer_perceptron.py:571: ConvergenceWarning: Stochastic Optimizer: Maximum iterations (200) reached and the optimization hasn't converged yet.\n",
            "  % self.max_iter, ConvergenceWarning)\n",
            "/usr/local/lib/python3.7/dist-packages/sklearn/neural_network/_multilayer_perceptron.py:571: ConvergenceWarning: Stochastic Optimizer: Maximum iterations (200) reached and the optimization hasn't converged yet.\n",
            "  % self.max_iter, ConvergenceWarning)\n",
            "/usr/local/lib/python3.7/dist-packages/sklearn/neural_network/_multilayer_perceptron.py:571: ConvergenceWarning: Stochastic Optimizer: Maximum iterations (200) reached and the optimization hasn't converged yet.\n",
            "  % self.max_iter, ConvergenceWarning)\n",
            "/usr/local/lib/python3.7/dist-packages/sklearn/neural_network/_multilayer_perceptron.py:571: ConvergenceWarning: Stochastic Optimizer: Maximum iterations (200) reached and the optimization hasn't converged yet.\n",
            "  % self.max_iter, ConvergenceWarning)\n",
            "/usr/local/lib/python3.7/dist-packages/sklearn/neural_network/_multilayer_perceptron.py:571: ConvergenceWarning: Stochastic Optimizer: Maximum iterations (200) reached and the optimization hasn't converged yet.\n",
            "  % self.max_iter, ConvergenceWarning)\n",
            "/usr/local/lib/python3.7/dist-packages/sklearn/neural_network/_multilayer_perceptron.py:571: ConvergenceWarning: Stochastic Optimizer: Maximum iterations (200) reached and the optimization hasn't converged yet.\n",
            "  % self.max_iter, ConvergenceWarning)\n",
            "/usr/local/lib/python3.7/dist-packages/sklearn/neural_network/_multilayer_perceptron.py:571: ConvergenceWarning: Stochastic Optimizer: Maximum iterations (200) reached and the optimization hasn't converged yet.\n",
            "  % self.max_iter, ConvergenceWarning)\n",
            "/usr/local/lib/python3.7/dist-packages/sklearn/neural_network/_multilayer_perceptron.py:571: ConvergenceWarning: Stochastic Optimizer: Maximum iterations (200) reached and the optimization hasn't converged yet.\n",
            "  % self.max_iter, ConvergenceWarning)\n",
            "/usr/local/lib/python3.7/dist-packages/sklearn/neural_network/_multilayer_perceptron.py:571: ConvergenceWarning: Stochastic Optimizer: Maximum iterations (200) reached and the optimization hasn't converged yet.\n",
            "  % self.max_iter, ConvergenceWarning)\n",
            "/usr/local/lib/python3.7/dist-packages/sklearn/neural_network/_multilayer_perceptron.py:571: ConvergenceWarning: Stochastic Optimizer: Maximum iterations (200) reached and the optimization hasn't converged yet.\n",
            "  % self.max_iter, ConvergenceWarning)\n",
            "/usr/local/lib/python3.7/dist-packages/sklearn/neural_network/_multilayer_perceptron.py:571: ConvergenceWarning: Stochastic Optimizer: Maximum iterations (200) reached and the optimization hasn't converged yet.\n",
            "  % self.max_iter, ConvergenceWarning)\n",
            "/usr/local/lib/python3.7/dist-packages/sklearn/neural_network/_multilayer_perceptron.py:571: ConvergenceWarning: Stochastic Optimizer: Maximum iterations (200) reached and the optimization hasn't converged yet.\n",
            "  % self.max_iter, ConvergenceWarning)\n",
            "/usr/local/lib/python3.7/dist-packages/sklearn/neural_network/_multilayer_perceptron.py:571: ConvergenceWarning: Stochastic Optimizer: Maximum iterations (200) reached and the optimization hasn't converged yet.\n",
            "  % self.max_iter, ConvergenceWarning)\n",
            "/usr/local/lib/python3.7/dist-packages/sklearn/neural_network/_multilayer_perceptron.py:571: ConvergenceWarning: Stochastic Optimizer: Maximum iterations (200) reached and the optimization hasn't converged yet.\n",
            "  % self.max_iter, ConvergenceWarning)\n",
            "/usr/local/lib/python3.7/dist-packages/sklearn/neural_network/_multilayer_perceptron.py:571: ConvergenceWarning: Stochastic Optimizer: Maximum iterations (200) reached and the optimization hasn't converged yet.\n",
            "  % self.max_iter, ConvergenceWarning)\n",
            "/usr/local/lib/python3.7/dist-packages/sklearn/neural_network/_multilayer_perceptron.py:571: ConvergenceWarning: Stochastic Optimizer: Maximum iterations (200) reached and the optimization hasn't converged yet.\n",
            "  % self.max_iter, ConvergenceWarning)\n",
            "/usr/local/lib/python3.7/dist-packages/sklearn/neural_network/_multilayer_perceptron.py:571: ConvergenceWarning: Stochastic Optimizer: Maximum iterations (200) reached and the optimization hasn't converged yet.\n",
            "  % self.max_iter, ConvergenceWarning)\n"
          ],
          "name": "stderr"
        },
        {
          "output_type": "execute_result",
          "data": {
            "text/plain": [
              "0.9992675659954152"
            ]
          },
          "metadata": {
            "tags": []
          },
          "execution_count": 38
        }
      ]
    },
    {
      "cell_type": "code",
      "metadata": {
        "colab": {
          "base_uri": "https://localhost:8080/"
        },
        "id": "NIsupExCwCtB",
        "outputId": "2537db73-ee63-48f7-ab0a-cc6899180b8e"
      },
      "source": [
        "print(f\"The score of the best estimator is {bestregr.best_score_}\")\n",
        "print(f\"The best params are {bestregr.best_params_}\")"
      ],
      "execution_count": null,
      "outputs": [
        {
          "output_type": "stream",
          "text": [
            "The score of the best estimator is 0.9984412993728601\n",
            "The best params are {'hidden_layer_sizes': (100, 50), 'learning_rate': 'adaptive', 'learning_rate_init': 0.05, 'solver': 'sgd'}\n"
          ],
          "name": "stdout"
        }
      ]
    },
    {
      "cell_type": "code",
      "metadata": {
        "colab": {
          "base_uri": "https://localhost:8080/",
          "height": 414
        },
        "id": "g1g3Ej2hXrM4",
        "outputId": "1bdf8ac1-e555-4614-e776-d970c605beb8"
      },
      "source": [
        "print(bestregr.score(x_test, y_test))\n",
        "prediction_train = bestregr.predict(x_train)\n",
        "prediction_test = bestregr.predict(x_test)\n",
        "print(\"On the training set, \")\n",
        "print(f\"Mean squared error: {mean_squared_error(y_train, prediction_train)}\")\n",
        "print(f\"Max error: {max_error(y_train, prediction_train)}\")\n",
        "print(\"On the test set, \")\n",
        "print(f\"Mean squared error: {mean_squared_error(y_test, prediction_test)}\")\n",
        "print(f\"Max error: {max_error(y_test, prediction_test)}\")\n",
        "\n",
        "plt.subplot(1, 2, 1)\n",
        "plt.scatter(x_train[\"month\"], y_train, color = \"red\")\n",
        "plt.plot(x_train[\"month\"], prediction_train, color = \"green\", alpha = 0.5)\n",
        "plt.title(\"Training Data\")\n",
        "plt.xlabel(\"Date\")\n",
        "plt.ylabel(\"Vaccinations\")\n",
        "\n",
        "plt.subplot(1, 2, 2)\n",
        "plt.scatter(x_test[\"month\"], y_test, color = \"red\")\n",
        "plt.plot(x_test[\"month\"], prediction_test, color = \"green\", alpha = 0.5)\n",
        "plt.title(\"Test Data\")\n",
        "plt.xlabel(\"Date\")\n",
        "plt.ylabel(\"Vaccinations\")\n",
        "plt.show()"
      ],
      "execution_count": null,
      "outputs": [
        {
          "output_type": "stream",
          "text": [
            "0.9988950259429054\n",
            "On the training set, \n",
            "Mean squared error: 0.0007309673485575771\n",
            "Max error: 0.3520473066963614\n",
            "On the test set, \n",
            "Mean squared error: 0.0011100867090779612\n",
            "Max error: 0.5400498270354075\n"
          ],
          "name": "stdout"
        },
        {
          "output_type": "display_data",
          "data": {
            "image/png": "[encoded data removed]",
            "text/plain": [
              "<Figure size 432x288 with 2 Axes>"
            ]
          },
          "metadata": {
            "tags": [],
            "needs_background": "light"
          }
        }
      ]
    }
  ]
}